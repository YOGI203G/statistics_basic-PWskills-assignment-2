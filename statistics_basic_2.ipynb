{
 "cells": [
  {
   "cell_type": "markdown",
   "id": "0c193c6a-57e3-44be-a7fe-aab00e84abda",
   "metadata": {},
   "source": [
    "Q1. What are the three measures of central tendency?"
   ]
  },
  {
   "cell_type": "markdown",
   "id": "30618050-a4ce-4968-b84d-8ce79e24e070",
   "metadata": {},
   "source": [
    "The three measures of central tendency are:\n",
    "\n",
    "1.Mean: The mean is the arithmetic average of a set of numbers. It is calculated by adding up all the numbers in the set and then dividing the total by the number of items in the set.\n",
    "\n",
    "2.Median: The median is the middle value in a set of numbers that are arranged in order. To find the median, you need to sort the numbers in ascending or descending order and then find the middle value. If there are an even number of values, the median is the average of the two middle values.\n",
    "\n",
    "3.Mode: The mode is the value that occurs most frequently in a set of numbers. A set of numbers can have one mode, more than one mode (if two or more values occur with the same highest frequency), or no mode (if no value occurs more frequently than any other value in the set)."
   ]
  },
  {
   "cell_type": "markdown",
   "id": "b5375019-1503-44f8-9a3f-dc0121fe8e20",
   "metadata": {},
   "source": [
    "Q2. What is the difference between the mean, median, and mode? How are they used to measure the\n",
    "central tendency of a dataset?"
   ]
  },
  {
   "cell_type": "markdown",
   "id": "05b493aa-6d4a-4237-8ec6-19ff880a627c",
   "metadata": {},
   "source": [
    "The mean, median, and mode are all measures of central tendency used to describe the typical or central value in a dataset. However, they differ in the way they are calculated and in their interpretation.\n",
    "\n",
    "The mean is the sum of all the values in the dataset divided by the total number of values. It is affected by extreme values, or outliers, in the dataset and may not be a good representation of the central tendency if the dataset has a skewed distribution.\n",
    "\n",
    "The median is the middle value in the dataset, such that half of the values are greater than or equal to the median, and the other half are less than or equal to the median. The median is less sensitive to outliers than the mean and is a better measure of central tendency for skewed distributions.\n",
    "\n",
    "The mode is the value that occurs most frequently in the dataset. It is not affected by extreme values, but it may not exist or may not be unique if there are multiple values with the same frequency.\n",
    "\n",
    "In practice, the choice of the measure of central tendency depends on the characteristics of the dataset and the research question. For example, the mean is often used when the dataset has a normal distribution, while the median is preferred when the dataset is skewed. The mode is often used when describing categorical data or when looking for the most typical value in a dataset.\n",
    "\n",
    "Overall, the mean, median, and mode are all useful measures of central tendency and should be used in conjunction with other statistical methods to fully describe a dataset."
   ]
  },
  {
   "cell_type": "markdown",
   "id": "521fbefc-47a4-42cd-99c7-aba3f29c8b48",
   "metadata": {},
   "source": [
    "Q3. Measure the three measures of central tendency for the given height data:\n",
    "\n",
    " [178,177,176,177,178.2,178,175,179,180,175,178.9,176.2,177,172.5,178,176.5]"
   ]
  },
  {
   "cell_type": "markdown",
   "id": "ad378aa7-d653-4935-8785-306467138781",
   "metadata": {},
   "source": [
    "To find the three measures of central tendency for the given height data, we can use the following formulas:\n",
    "\n",
    "Mean = (sum of all values) / (number of values)\n",
    "\n",
    "Median = middle value in the sorted dataset\n",
    "\n",
    "Mode = value that appears most frequently in the dataset\n",
    "\n",
    "First, we need to sort the dataset in ascending order:\n",
    "\n",
    "[172.5, 175, 175, 176, 176.2, 176.5, 177, 177, 178, 178, 178, 178.2, 178.9, 179, 180]\n",
    "\n",
    "Next, we can use the formulas to calculate the measures of central tendency:\n",
    "\n",
    "Mean = (172.5 + 175 + 175 + 176 + 176.2 + 176.5 + 177 + 177 + 178 + 178 + 178 + 178.2 + 178.9 + 179 + 180) / 15\n",
    "\n",
    "Mean = 176.97\n",
    "\n",
    "Median = 177\n",
    "\n",
    "Mode = 178\n",
    "\n",
    "Therefore, the mean height of the dataset is approximately 176.97 cm, the median height is 177 cm, and the mode is 178 cm."
   ]
  },
  {
   "cell_type": "markdown",
   "id": "e5a5ceb5-16e4-4917-b190-eedbc7f89eab",
   "metadata": {},
   "source": [
    "Q4. Find the standard deviation for the given data:\n",
    "\n",
    "[178,177,176,177,178.2,178,175,179,180,175,178.9,176.2,177,172.5,178,176.5]"
   ]
  },
  {
   "cell_type": "markdown",
   "id": "74c8796b-b776-4c79-a25b-d912ab4ab823",
   "metadata": {},
   "source": [
    "To find the standard deviation for the given data, we can use the following formula:\n",
    "\n",
    "s = sqrt([∑(x - x̄)^2] / (n - 1))\n",
    "\n",
    "where s is the sample standard deviation, x is each value in the dataset, x̄ is the sample mean, and n is the sample size.\n",
    "\n",
    "First, we need to calculate the sample mean:\n",
    "\n",
    "x̄ = (178 + 177 + 176 + 177 + 178.2 + 178 + 175 + 179 + 180 + 175 + 178.9 + 176.2 + 177 + 172.5 + 178 + 176.5) / 16\n",
    "\n",
    "x̄ = 177.31\n",
    "\n",
    "Next, we can calculate the sum of squared deviations from the mean:\n",
    "\n",
    "∑(x - x̄)^2 = (178 - 177.31)^2 + (177 - 177.31)^2 + (176 - 177.31)^2 + (177 - 177.31)^2 + (178.2 - 177.31)^2 + (178 - 177.31)^2 + (175 - 177.31)^2 + (179 - 177.31)^2 + (180 - 177.31)^2 + (175 - 177.31)^2 + (178.9 - 177.31)^2 + (176.2 - 177.31)^2 + (177 - 177.31)^2 + (172.5 - 177.31)^2 + (178 - 177.31)^2 + (176.5 - 177.31)^2\n",
    "\n",
    "∑(x - x̄)^2 = 314.46\n",
    "\n",
    "Finally, we can calculate the sample standard deviation:\n",
    "\n",
    "s = sqrt([∑(x - x̄)^2] / (n - 1))\n",
    "\n",
    "s = sqrt(314.46 / 15)\n",
    "\n",
    "s = 1.978\n",
    "\n",
    "Therefore, the sample standard deviation for the given data is approximately 1.978 cm."
   ]
  },
  {
   "cell_type": "markdown",
   "id": "64368f02-cb33-4009-9cd8-1799ed5a82bf",
   "metadata": {},
   "source": [
    "Q5. How are measures of dispersion such as range, variance, and standard deviation used to describe\n",
    "the spread of a dataset? Provide an example.\n",
    "\n"
   ]
  },
  {
   "cell_type": "markdown",
   "id": "26066b72-df70-4229-9ee7-c1a8877351c3",
   "metadata": {},
   "source": [
    "Measures of dispersion such as range, variance, and standard deviation are used to describe the spread of a dataset by indicating how spread out or tightly clustered the data points are around the central tendency (mean, median, or mode).\n",
    "\n",
    "The range is the simplest measure of dispersion and is defined as the difference between the largest and smallest values in the dataset. It provides a rough estimate of how much the data points vary from one another.\n",
    "\n",
    "The variance and standard deviation are more precise measures of dispersion that take into account the distance of each data point from the mean. The variance is calculated as the average of the squared deviations from the mean, while the standard deviation is the square root of the variance. A higher variance or standard deviation indicates that the data points are more spread out from the mean, while a lower variance or standard deviation indicates that the data points are more tightly clustered around the mean.\n",
    "\n",
    "For example, consider two datasets of student scores on a test:\n",
    "\n",
    "Dataset 1: [70, 75, 80, 85, 90] Dataset 2: [60, 70, 80, 90, 100]\n",
    "\n",
    "Both datasets have the same mean score of 80, but they have different spreads of scores. The range of Dataset 1 is 20 (90-70), while the range of Dataset 2 is 40 (100-60), indicating that the scores in Dataset 2 are more spread out. The variance of Dataset 1 is 62.5, and the standard deviation is 7.91, while the variance of Dataset 2 is 200 and the standard deviation is 14.14, again indicating that the scores in Dataset 2 are more spread out. Therefore, measures of dispersion such as range, variance, and standard deviation can provide valuable information about the spread of a dataset and help us better understand the distribution of data points."
   ]
  },
  {
   "cell_type": "markdown",
   "id": "9dd7385a-9224-4979-b41d-d7cf6ade4863",
   "metadata": {},
   "source": [
    "Q6. What is a Venn diagram?"
   ]
  },
  {
   "cell_type": "markdown",
   "id": "265d3ca8-5965-44e2-84ab-bc956ce90f0f",
   "metadata": {},
   "source": [
    "A Venn diagram is a graphical representation of the relationships between different sets or groups of data. It consists of overlapping circles or ellipses, each representing a set or group, with the overlap representing the elements that are common to both sets.\n",
    "\n",
    "Venn diagrams are used to visually represent the similarities and differences between two or more sets or groups of data. They can be used to identify and compare the elements that are unique to each set or common to multiple sets, making them a useful tool in various fields such as mathematics, logic, statistics, and data science.\n",
    "\n",
    "Venn diagrams can be used to represent different types of relationships between sets or groups, including the following:\n",
    "\n",
    "Disjoint sets: Two sets that have no elements in common.\n",
    "\n",
    "Overlapping sets: Two or more sets that share some common elements.\n",
    "\n",
    "Nested sets: Sets that are contained within other sets.\n",
    "\n",
    "Venn diagrams can be drawn by hand or using software such as Microsoft Excel, Google Sheets, or specialized Venn diagram software. They are a powerful tool for visualizing data and communicating complex ideas in a clear and concise manner."
   ]
  },
  {
   "cell_type": "markdown",
   "id": "5920c4ca-b98a-416e-a582-f3cd840c16d4",
   "metadata": {},
   "source": [
    "Q7. For the two given sets A = (2,3,4,5,6,7) & B = (0,2,6,8,10). Find:\n",
    "\n",
    "(i) \tA B\n",
    "\n",
    "(ii)\tA ⋃ B"
   ]
  },
  {
   "cell_type": "markdown",
   "id": "3851de76-b736-451e-97aa-e8363af3c491",
   "metadata": {},
   "source": [
    "(i) A B represents the set of elements that are common to both sets A and B. To find A B, we need to identify the elements that appear in both sets. From the given sets, we see that the common element between A and B is 6. Therefore, A B = {6}.\n",
    "\n",
    "(ii) A ⋃ B represents the union of sets A and B, which includes all the elements that are in either set A or set B, or both. To find A ⋃ B, we need to combine the elements from both sets and remove any duplicates. The combined set is:\n",
    "\n",
    "{0, 2, 3, 4, 5, 6, 7, 8, 10}\n",
    "\n",
    "Therefore, A ⋃ B = {0, 2, 3, 4, 5, 6, 7, 8, 10}."
   ]
  },
  {
   "cell_type": "markdown",
   "id": "e9a86c15-38e5-470b-9a6e-4639b15464e3",
   "metadata": {},
   "source": [
    "Q8. What do you understand about skewness in data?\n",
    "\n"
   ]
  },
  {
   "cell_type": "markdown",
   "id": "d6c77654-d712-4291-bd37-127bbe9ba46a",
   "metadata": {},
   "source": [
    "Skewness is a measure of the asymmetry or lack of symmetry in a dataset. It indicates the degree to which the data is skewed or distorted from a normal distribution.\n",
    "\n",
    "In a normal distribution, the data is symmetrical, with an equal number of data points on either side of the mean. However, in a skewed distribution, the data is not evenly distributed, with one tail of the distribution being longer or stretched out than the other.\n",
    "\n",
    "There are two types of skewness:\n",
    "\n",
    "1.Positive skewness: In a positively skewed distribution, the tail of the distribution extends to the right, with most of the data concentrated on the left side of the distribution. This is also called right-skewed or right-tailed distribution.\n",
    "\n",
    "2.Negative skewness: In a negatively skewed distribution, the tail of the distribution extends to the left, with most of the data concentrated on the right side of the distribution. This is also called left-skewed or left-tailed distribution.\n",
    "\n",
    "Skewness can have an impact on statistical analysis, as it can affect the central tendency of the data (mean, median, and mode) and the accuracy of some statistical tests. It is important to identify the presence and degree of skewness in a dataset before making any conclusions or decisions based on the data."
   ]
  },
  {
   "cell_type": "markdown",
   "id": "64288b25-d75e-4d26-b5c3-72ef57f29eb5",
   "metadata": {},
   "source": [
    "Q9. If a data is right skewed then what will be the position of median with respect to mean?"
   ]
  },
  {
   "cell_type": "markdown",
   "id": "11393b7d-e1bb-4173-9e00-c82f7a63c0a9",
   "metadata": {},
   "source": [
    "If a data is right skewed, the median will be less than the mean. This is because in a right-skewed distribution, the tail of the distribution is on the right side, which means there are some extreme values on the right side that pull the mean towards the right, making it higher than the median. The median, on the other hand, is not affected by extreme values and is only influenced by the values in the middle of the distribution. As a result, the median is typically less than the mean in a right-skewed distribution."
   ]
  },
  {
   "cell_type": "markdown",
   "id": "3f04708d-c287-4d3b-85bd-bc8d3af04cbb",
   "metadata": {},
   "source": [
    "Q10. Explain the difference between covariance and correlation. How are these measures used in\n",
    "statistical analysis?"
   ]
  },
  {
   "cell_type": "markdown",
   "id": "fcf314c5-f064-4e32-8d4b-4098df1fa07e",
   "metadata": {},
   "source": [
    "Covariance and correlation are both measures of the relationship between two variables in a dataset. However, there are some key differences between these two measures:\n",
    "\n",
    "1.Definition: Covariance measures the degree to which two variables in a dataset vary together, while correlation measures the strength and direction of the linear relationship between two variables.\n",
    "\n",
    "2.Range of values: Covariance can take on any value between negative infinity and positive infinity, while correlation is limited to values between -1 and 1.\n",
    "\n",
    "3.Interpretation: A positive covariance indicates that two variables tend to increase or decrease together, while a negative covariance indicates that one variable tends to increase while the other decreases. However, the magnitude of covariance is difficult to interpret. On the other hand, correlation provides a clear indication of the strength and direction of the relationship between two variables. A positive correlation means that as one variable increases, the other variable tends to increase, and vice versa. A negative correlation means that as one variable increases, the other variable tends to decrease, and vice versa.\n",
    "\n",
    "4.Units: Covariance is expressed in the units of the variables being measured, while correlation is unitless, as it measures the relationship between variables relative to their standard deviations.\n",
    "\n",
    "In statistical analysis, covariance and correlation are both used to determine the relationship between two variables. Covariance is used to measure the strength of the linear relationship between two variables, while correlation is used to quantify both the strength and direction of the relationship. Correlation is considered to be a more useful measure than covariance because it is standardized and provides more meaningful results. Correlation is also used to identify relationships between variables in regression analysis, while covariance is used in portfolio analysis to calculate the risk and return of multiple assets"
   ]
  },
  {
   "cell_type": "markdown",
   "id": "9b8d2a56-b3c5-4ebb-8e36-18b0fc17536b",
   "metadata": {},
   "source": [
    "Q11. What is the formula for calculating the sample mean? Provide an example calculation for a\n",
    "dataset.\n",
    "\n"
   ]
  },
  {
   "cell_type": "markdown",
   "id": "dba39b05-6e86-439c-8fd1-3cc5fd44478d",
   "metadata": {},
   "source": [
    "The formula for calculating the sample mean (also known as the arithmetic mean) is:\n",
    "\n",
    "sample mean = (sum of all values in the dataset) / (number of values in the dataset)\n",
    "\n",
    "For example, consider the following dataset:\n",
    "\n",
    "4, 8, 6, 10, 12\n",
    "\n",
    "To find the sample mean of this dataset, we first need to add up all the values:\n",
    "\n",
    "4 + 8 + 6 + 10 + 12 = 40\n",
    "\n",
    "Next, we divide the sum by the number of values in the dataset, which is 5:\n",
    "\n",
    "sample mean = 40 / 5 = 8\n",
    "\n",
    "Therefore, the sample mean of this dataset is 8."
   ]
  },
  {
   "cell_type": "markdown",
   "id": "3f24dd39-6a49-476e-8cad-80db8d614902",
   "metadata": {},
   "source": [
    "Q12. For a normal distribution data what is the relationship between its measure of central tendency?"
   ]
  },
  {
   "cell_type": "markdown",
   "id": "5da5c85f-8ef0-4f5b-8ee3-bc834e0f5306",
   "metadata": {},
   "source": [
    "For a normal distribution, the mean, median, and mode are all equal. In other words, the measure of central tendency is the same, and they are located at the center of the distribution. This is because a normal distribution is symmetric around its mean, so the middle value (median) is the same as the average value (mean), which is also the most frequent value (mode).\n",
    "\n",
    "This relationship between the mean, median, and mode is a key characteristic of a normal distribution and can be used to identify if a dataset is approximately normally distributed."
   ]
  },
  {
   "cell_type": "markdown",
   "id": "15f85951-2200-48fc-948b-8ea8efe52e07",
   "metadata": {},
   "source": [
    "Q13. How is covariance different from correlation?"
   ]
  },
  {
   "cell_type": "markdown",
   "id": "0295ae25-6efa-403c-8998-4217a8b4a66b",
   "metadata": {},
   "source": [
    "Covariance and correlation are two different measures of the relationship between two variables in a dataset:\n",
    "\n",
    "1.Definition: Covariance measures the degree to which two variables in a dataset vary together, while correlation measures the strength and direction of the linear relationship between two variables.\n",
    "\n",
    "2.Range of values: Covariance can take on any value between negative infinity and positive infinity, while correlation is limited to values between -1 and 1.\n",
    "\n",
    "3.Interpretation: A positive covariance indicates that two variables tend to increase or decrease together, while a negative covariance indicates that one variable tends to increase while the other decreases. However, the magnitude of covariance is difficult to interpret. On the other hand, correlation provides a clear indication of the strength and direction of the relationship between two variables. A positive correlation means that as one variable increases, the other variable tends to increase, and vice versa. A negative correlation means that as one variable increases, the other variable tends to decrease, and vice versa.\n",
    "\n",
    "4.Units: Covariance is expressed in the units of the variables being measured, while correlation is unitless, as it measures the relationship between variables relative to their standard deviations.\n",
    "\n",
    "In summary, covariance and correlation are both measures of the relationship between two variables, but correlation is considered a more useful measure than covariance because it is standardized, provides more meaningful results, and is easier to interpret."
   ]
  },
  {
   "cell_type": "markdown",
   "id": "4497ccf0-22d7-487e-8c78-a3acdf3f9545",
   "metadata": {},
   "source": [
    "Q14. How do outliers affect measures of central tendency and dispersion? Provide an example."
   ]
  },
  {
   "cell_type": "markdown",
   "id": "39e75eda-435b-481c-a0d1-c7e764a22140",
   "metadata": {},
   "source": [
    "Outliers are extreme values that differ significantly from the other values in a dataset. They can have a significant impact on measures of central tendency and dispersion:\n",
    "\n",
    "1.Measures of central tendency: Outliers can greatly affect the mean, but have little effect on the median and mode. This is because the mean is sensitive to extreme values, and outliers can pull it towards the extreme end of the distribution. For example, consider a dataset of salaries for a company that looks like this:\n",
    "\n",
    "30,000, 35,000, 40,000, 45,000, 50,000, 55,000, 60,000, 75,000, 100,000\n",
    "\n",
    "The mean salary is (30,000+35,000+40,000+45,000+50,000+55,000+60,000+75,000+100,000) / 9 = 54,444. The outlier of 100,000 has pulled the mean towards the upper end of the distribution.\n",
    "\n",
    "2.Measures of dispersion: Outliers can greatly affect measures of dispersion such as range, variance, and standard deviation. For example, consider the same salary dataset as above. The range of salaries is 100,000 - 30,000 = 70,000. However, if we remove the outlier of 100,000, the range becomes 60,000 - 30,000 = 30,000. Similarly, the variance and standard deviation will be larger if the dataset includes an outlier.\n",
    "\n",
    "In summary, outliers can greatly affect measures of central tendency and dispersion, and it is important to identify and handle them appropriately in statistical analysis."
   ]
  },
  {
   "cell_type": "code",
   "execution_count": null,
   "id": "5a13779e-b671-41a4-b664-ed3ab27b3653",
   "metadata": {},
   "outputs": [],
   "source": []
  }
 ],
 "metadata": {
  "kernelspec": {
   "display_name": "Python 3 (ipykernel)",
   "language": "python",
   "name": "python3"
  },
  "language_info": {
   "codemirror_mode": {
    "name": "ipython",
    "version": 3
   },
   "file_extension": ".py",
   "mimetype": "text/x-python",
   "name": "python",
   "nbconvert_exporter": "python",
   "pygments_lexer": "ipython3",
   "version": "3.10.8"
  }
 },
 "nbformat": 4,
 "nbformat_minor": 5
}
